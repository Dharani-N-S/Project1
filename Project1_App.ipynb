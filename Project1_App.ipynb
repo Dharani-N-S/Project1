{
 "cells": [
  {
   "cell_type": "code",
   "execution_count": 3,
   "id": "fda76683-9080-4356-947e-ce637cdb95c3",
   "metadata": {},
   "outputs": [],
   "source": [
    "import streamlit as st\n",
    "import pandas as pd\n",
    "import mysql.connector\n",
    "# MySQL connection\n",
    "mydb = mysql.connector.connect(host=\"localhost\",\n",
    "                               user=\"root\",\n",
    "                               password=\"myroot\")\n",
    "mycursor = mydb.cursor()"
   ]
  },
  {
   "cell_type": "code",
   "execution_count": 4,
   "id": "1b41c961-c56e-48ad-ae86-82d494281229",
   "metadata": {},
   "outputs": [],
   "source": [
    "mycursor.execute(\"USE YOUTUBE_DATABASE\")"
   ]
  },
  {
   "cell_type": "code",
   "execution_count": null,
   "id": "ca9df19b-c741-4c0d-b8fc-ffd06eb65b34",
   "metadata": {},
   "outputs": [],
   "source": [
    "mycursor.execute(\"ALTER TABLE playlist ADD CONSTRAINT fk_channel_id FOREIGN KEY (channel_id) REFERENCES channels(channel_id)\")"
   ]
  },
  {
   "cell_type": "code",
   "execution_count": 12,
   "id": "e887eb06-5206-4da9-a2c6-14dcd452ac0f",
   "metadata": {},
   "outputs": [],
   "source": [
    "# inserting datas into playlist table\n",
    "mycursor.execute(\"INSERT INTO Playlist (Channel_Id, Playlist_Id) SELECT Channel_Id, Playlist_Id FROM Channels\")\n",
    "mydb.commit()"
   ]
  },
  {
   "cell_type": "code",
   "execution_count": null,
   "id": "f262dc3f-465c-4649-a72c-d9824576cb95",
   "metadata": {},
   "outputs": [],
   "source": [
    "!streamlit run Project1_st.py"
   ]
  },
  {
   "cell_type": "code",
   "execution_count": null,
   "id": "2644c059-020c-4bf7-9acf-3f01635395e1",
   "metadata": {},
   "outputs": [],
   "source": [
    "# Code inside the file Project1_st.py\n",
    "import streamlit as st\n",
    "import pandas as pd\n",
    "import mysql.connector\n",
    "import json\n",
    "\n",
    "mydb = mysql.connector.connect(host=\"localhost\", user=\"root\", password=\"myroot\")\n",
    "mycursor = mydb.cursor()\n",
    "mycursor.execute(\"USE YOUTUBE_DATABASE\")\n",
    "\n",
    "def fetch_data(channel_name):\n",
    "    query = f\"SELECT * FROM CHANNELS WHERE CHANNEL_NAME = '{channel_name}'\"\n",
    "    df = pd.read_sql_query(query, mydb)\n",
    "    return df.to_dict(orient='records')\n",
    "\n",
    "st.title(\"YouTube Data App\")\n",
    "st.sidebar.title(\"Menu\")\n",
    "\n",
    "if \"channel_names\" not in st.session_state:\n",
    "    st.session_state.channel_names = []\n",
    "\n",
    "if \"selected_channel\" not in st.session_state:\n",
    "\tst.session_state.selected_channel = \"\"\n",
    "\t\t\n",
    "if st.sidebar.button(\"Channels\"):\n",
    "\tst.session_state.channel_names.clear()\n",
    "\tmycursor.execute(\"SELECT CHANNEL_NAME FROM CHANNELS\")\t\n",
    "\tst.session_state.channel_names.extend([row[0] for row in mycursor.fetchall()])\n",
    "\n",
    "st.session_state.selected_channel = st.sidebar.selectbox(\"Select a Channel\", options=st.session_state.channel_names)\n",
    "\n",
    "if st.button(\"Scrap\"):\n",
    "\tst.write(st.session_state.selected_channel)\n",
    "\tscrap_data = fetch_data(st.session_state.selected_channel)\n",
    "\tst.json(scrap_data)\n",
    "\n",
    "queries = {\"1. Names of all videos and their corresponding channels\" : \n",
    "\t\t   \"SELECT video_name, channel_name FROM Videos JOIN Channels ON Videos.channel_id = Channels.channel_id\",\n",
    "           \"2. Channels with the most number of videos and their count\" : \"SELECT channel_name, COUNT(video_id) AS number_of_videos FROM Videos JOIN Channels ON Videos.channel_id = Channels.channel_id GROUP BY channel_name ORDER BY number_of_videos DESC LIMIT 1\",\n",
    "           \"3. Top 10 most viewed videos and their respective channels\" : \"SELECT video_name, view_count, channel_name FROM Videos JOIN Channels ON Videos.channel_id = Channels.channel_id ORDER BY view_count DESC LIMIT 10\",\n",
    "           \"4. Comments made on each video and their corresponding video names\" : \"SELECT video_name, GROUP_CONCAT(comment_text) AS Comments FROM Videos JOIN Comments ON Videos.video_id = Comments.video_id GROUP BY video_name\",\n",
    "           \"5. Videos with the highest number of likes and their corresponding channel names\" : \"WITH ranked_videos AS (SELECT video_name, channel_name, like_count, ROW_NUMBER() OVER(PARTITION BY Channels.channel_id ORDER BY like_count DESC) AS row_num FROM Videos JOIN Channels ON Videos.channel_id = Channels.channel_id) SELECT video_name, like_count AS maximum_likes, channel_name FROM ranked_videos WHERE row_num = 1\",\n",
    "           \"6. Total number of likes for each video and their corresponding video names\" : \"SELECT SUM(like_count) AS total_likes, video_name FROM Videos GROUP BY video_name ORDER BY total_likes DESC\",\n",
    "           \"7. Total number of views for each channel and their corresponding channel names\" : \"SELECT SUM(view_count) AS total_views, channel_name FROM Videos JOIN Channels ON Videos.channel_id = Channels.channel_id GROUP BY channel_name\",\n",
    "           \"8. Names of all the channels that have published videos in the year 2022\" : \"SELECT DISTINCT channel_name FROM Channels JOIN Videos ON Channels.channel_id = Videos.channel_id WHERE YEAR(publishedat) = 2022\",\n",
    "           \"9. Average duration of all videos in each channel and their corresponding channel names\" : \"SELECT channel_name, ROUND(AVG(duration),0) AS average_duration_in_seconds FROM Videos JOIN Channels ON Videos.channel_id = Channels.channel_id GROUP BY channel_name\",\n",
    "           \"10. Videos with the highest number of comments and their corresponding channel names\" : \"SELECT channel_name, number_of_comments, video_name FROM (SELECT c.channel_name, COUNT(co.comment_id) AS number_of_comments, v.video_name, RANK() OVER (PARTITION BY c.channel_id ORDER BY COUNT(co.comment_id) DESC) AS rnk FROM channels c JOIN videos v ON c.channel_id = v.channel_id LEFT JOIN comments co ON v.video_id = co.video_id GROUP BY c.channel_id, v.video_id) ranked WHERE rnk = 1 ORDER BY channel_name\"\n",
    "\t\t  }\t\n",
    "\n",
    "def execute_query(query):\n",
    "\tdf = pd.read_sql_query(query, mydb)\n",
    "\treturn df\n",
    "\n",
    "if \"queries\" not in st.session_state:\n",
    "    st.session_state.queries = []\n",
    "\t\n",
    "if \"selected_query\" not in st.session_state:\n",
    "\tst.session_state.selected_query = \"\"\n",
    "\t\n",
    "if st.sidebar.button(\"Queries\"):\n",
    "\tst.session_state.queries.clear()\n",
    "\tst.session_state.queries.extend(queries.keys())\n",
    "st.session_state.selected_query = st.selectbox(\"Select a query\", options=st.session_state.queries)\n",
    "\n",
    "if st.button(\"Execute query\"):\n",
    "\tst.write(st.session_state.selected_query)\n",
    "\tresult = execute_query(queries[st.session_state.selected_query])\n",
    "\tst.dataframe(result)\n",
    "\n",
    "mydb.close()"
   ]
  }
 ],
 "metadata": {
  "kernelspec": {
   "display_name": "Python 3 (ipykernel)",
   "language": "python",
   "name": "python3"
  },
  "language_info": {
   "codemirror_mode": {
    "name": "ipython",
    "version": 3
   },
   "file_extension": ".py",
   "mimetype": "text/x-python",
   "name": "python",
   "nbconvert_exporter": "python",
   "pygments_lexer": "ipython3",
   "version": "3.12.0"
  }
 },
 "nbformat": 4,
 "nbformat_minor": 5
}
